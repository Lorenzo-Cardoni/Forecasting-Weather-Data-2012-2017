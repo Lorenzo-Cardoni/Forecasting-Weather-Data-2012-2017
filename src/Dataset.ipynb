{
 "cells": [
  {
   "cell_type": "markdown",
   "metadata": {},
   "source": [
    "Eliminazione delle città israeliane dai vari CSV"
   ]
  },
  {
   "cell_type": "markdown",
   "metadata": {},
   "source": [
    "City Attributes"
   ]
  },
  {
   "cell_type": "code",
   "execution_count": 29,
   "metadata": {},
   "outputs": [],
   "source": [
    "import pandas as pd\n",
    "\n",
    "# Load the dataset\n",
    "file_path = 'Dataset Weather/city_attributes.csv'  # Replace with the actual path to your CSV file\n",
    "df = pd.read_csv(file_path)\n",
    "\n",
    "#Elimino la prima riga che è Null\n",
    "df = df.drop(index=0)\n",
    "# Drop the last 6 rows\n",
    "df = df.iloc[:-6, :]\n",
    "\n",
    "# Save the modified DataFrame back to a CSV file\n",
    "output_path = 'Weather/city_attributes_new.csv'  # Replace with the desired output path\n",
    "df.to_csv(output_path, index=False)"
   ]
  },
  {
   "cell_type": "markdown",
   "metadata": {},
   "source": [
    "Humidity"
   ]
  },
  {
   "cell_type": "code",
   "execution_count": 30,
   "metadata": {},
   "outputs": [],
   "source": [
    "import pandas as pd\n",
    "\n",
    "# Load the dataset\n",
    "file_path = 'Dataset Weather/humidity.csv'  # Replace with the actual path to your CSV file\n",
    "df = pd.read_csv(file_path)\n",
    "\n",
    "#Elimino la prima riga che è Null\n",
    "df = df.drop(index=0)\n",
    "# Drop the last 6 columns, che sono le città Israeliane\n",
    "df = df.iloc[:, :-6]\n",
    "\n",
    "# Save the modified DataFrame back to a CSV file\n",
    "output_path = 'Weather/humidity_new.csv'  # Replace with the desired output path\n",
    "df.to_csv(output_path, index=False)"
   ]
  },
  {
   "cell_type": "markdown",
   "metadata": {},
   "source": [
    "Pressure"
   ]
  },
  {
   "cell_type": "code",
   "execution_count": 31,
   "metadata": {},
   "outputs": [],
   "source": [
    "import pandas as pd\n",
    "\n",
    "# Load the dataset\n",
    "file_path = 'Dataset Weather/pressure.csv'  # Replace with the actual path to your CSV file\n",
    "df = pd.read_csv(file_path)\n",
    "\n",
    "#Elimino la prima riga che è Null\n",
    "df = df.drop(index=0)\n",
    "# Drop the last 6 columns, che sono le città Israeliane\n",
    "df = df.iloc[:, :-6]\n",
    "\n",
    "# Save the modified DataFrame back to a CSV file\n",
    "output_path = 'Weather/pressure_new.csv'  # Replace with the desired output path\n",
    "df.to_csv(output_path, index=False)"
   ]
  },
  {
   "cell_type": "markdown",
   "metadata": {},
   "source": [
    "Modifiche Dataset Weather Temperature: \n",
    "Le temperature originali sono in gradi Kelvin, le converto tutte in gradi Celsius"
   ]
  },
  {
   "cell_type": "code",
   "execution_count": 32,
   "metadata": {},
   "outputs": [],
   "source": [
    "import pandas as pd\n",
    "\n",
    "# Load the dataset\n",
    "file_path = 'Dataset Weather/temperature.csv'  # Replace with the actual path to your CSV file\n",
    "df = pd.read_csv(file_path)\n",
    "\n",
    "#Elimino la prima riga che è Null\n",
    "df = df.drop(index=0)\n",
    "# Drop the last 6 columns, che sono le città Israeliane\n",
    "df = df.iloc[:, :-6]\n",
    "\n",
    "# Convert temperatures from Kelvin to Celsius\n",
    "# Assuming the first column is the datetime and should be excluded from the conversion\n",
    "for column in df.columns[1:]:\n",
    "    df[column] = (df[column] - 273.15).round(1) #ho arrotondato ad una cifra dopo la virgola\n",
    "\n",
    "# Save the modified DataFrame back to a CSV file\n",
    "output_path = 'Weather/temperature_new.csv'  # Replace with the desired output path\n",
    "df.to_csv(output_path, index=False)"
   ]
  },
  {
   "cell_type": "markdown",
   "metadata": {},
   "source": [
    "Weather Description"
   ]
  },
  {
   "cell_type": "code",
   "execution_count": 33,
   "metadata": {},
   "outputs": [],
   "source": [
    "import pandas as pd\n",
    "\n",
    "# Load the dataset\n",
    "file_path = 'Dataset Weather/weather_description.csv'  # Replace with the actual path to your CSV file\n",
    "df = pd.read_csv(file_path)\n",
    "\n",
    "#Elimino la prima riga che è Null\n",
    "df = df.drop(index=0)\n",
    "# Drop the last 6 columns, che sono le città Israeliane\n",
    "df = df.iloc[:, :-6]\n",
    "\n",
    "# Save the modified DataFrame back to a CSV file\n",
    "output_path = 'Weather/weather_description_new.csv'  # Replace with the desired output path\n",
    "df.to_csv(output_path, index=False)"
   ]
  },
  {
   "cell_type": "markdown",
   "metadata": {},
   "source": [
    "Wind Direction"
   ]
  },
  {
   "cell_type": "code",
   "execution_count": 34,
   "metadata": {},
   "outputs": [],
   "source": [
    "import pandas as pd\n",
    "\n",
    "# Load the dataset\n",
    "file_path = 'Dataset Weather/wind_direction.csv'  # Replace with the actual path to your CSV file\n",
    "df = pd.read_csv(file_path)\n",
    "\n",
    "#Elimino la prima riga che è Null\n",
    "df = df.drop(index=0)\n",
    "# Drop the last 6 columns, che sono le città Israeliane\n",
    "df = df.iloc[:, :-6]\n",
    "\n",
    "# Save the modified DataFrame back to a CSV file\n",
    "output_path = 'Weather/wind_direction_new.csv'  # Replace with the desired output path\n",
    "df.to_csv(output_path, index=False)"
   ]
  },
  {
   "cell_type": "markdown",
   "metadata": {},
   "source": [
    "Wind Speed"
   ]
  },
  {
   "cell_type": "code",
   "execution_count": 35,
   "metadata": {},
   "outputs": [],
   "source": [
    "import pandas as pd\n",
    "\n",
    "# Load the dataset\n",
    "file_path = 'Dataset Weather/wind_speed.csv'  # Replace with the actual path to your CSV file\n",
    "df = pd.read_csv(file_path)\n",
    "\n",
    "#Elimino la prima riga che è Null\n",
    "df = df.drop(index=0)\n",
    "# Drop the last 6 columns, che sono le città Israeliane\n",
    "df = df.iloc[:, :-6]\n",
    "\n",
    "# Save the modified DataFrame back to a CSV file\n",
    "output_path = 'Weather/wind_speed_new.csv'  # Replace with the desired output path\n",
    "df.to_csv(output_path, index=False)"
   ]
  }
 ],
 "metadata": {
  "kernelspec": {
   "display_name": "Python 3",
   "language": "python",
   "name": "python3"
  },
  "language_info": {
   "codemirror_mode": {
    "name": "ipython",
    "version": 3
   },
   "file_extension": ".py",
   "mimetype": "text/x-python",
   "name": "python",
   "nbconvert_exporter": "python",
   "pygments_lexer": "ipython3",
   "version": "3.11.2"
  }
 },
 "nbformat": 4,
 "nbformat_minor": 2
}
